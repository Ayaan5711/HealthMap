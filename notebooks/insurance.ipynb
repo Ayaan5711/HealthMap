{
 "cells": [
  {
   "cell_type": "code",
   "execution_count": 1,
   "metadata": {},
   "outputs": [],
   "source": [
    "from sklearn.model_selection import train_test_split\n",
    "from sklearn.ensemble import RandomForestRegressor\n",
    "from sklearn.preprocessing import StandardScaler, OneHotEncoder\n",
    "from sklearn.compose import ColumnTransformer\n",
    "import pickle\n",
    "import pandas as pd"
   ]
  },
  {
   "cell_type": "code",
   "execution_count": null,
   "metadata": {},
   "outputs": [],
   "source": [
    "# Load the dataset\n",
    "df = pd.read_csv('datasets/health_insurance_data.csv')"
   ]
  },
  {
   "cell_type": "code",
   "execution_count": null,
   "metadata": {},
   "outputs": [],
   "source": [
    "# Define the features and target\n",
    "numerical_cols = [\n",
    "    'Age', 'BMI', 'Annual Income', 'Diabetes', 'Hypertension', \n",
    "    'Heart Disease', 'Cancer', 'Asthma', 'Arthritis', 'Stroke', \n",
    "    'Epilepsy', 'Kidney Disease', 'Liver Disease', 'Tuberculosis', 'HIV'\n",
    "]\n",
    "categorical_cols = [\n",
    "    'Sex', 'Smoking Status', 'Family History of Disease', 'Occupation', 'City'\n",
    "]\n",
    "target = 'Risk Score'"
   ]
  },
  {
   "cell_type": "code",
   "execution_count": null,
   "metadata": {},
   "outputs": [],
   "source": [
    "X = df[numerical_cols + categorical_cols]\n",
    "y = df[target]\n"
   ]
  },
  {
   "cell_type": "code",
   "execution_count": null,
   "metadata": {},
   "outputs": [],
   "source": [
    "X_train, X_test, y_train, y_test = train_test_split(X, y, test_size=0.2, random_state=42)"
   ]
  },
  {
   "cell_type": "code",
   "execution_count": null,
   "metadata": {},
   "outputs": [],
   "source": [
    "scaler = StandardScaler()\n",
    "X_train_numerical = scaler.fit_transform(X_train[numerical_cols])\n",
    "X_test_numerical = scaler.transform(X_test[numerical_cols])"
   ]
  },
  {
   "cell_type": "code",
   "execution_count": null,
   "metadata": {},
   "outputs": [],
   "source": [
    "encoder = OneHotEncoder()\n",
    "X_train_categorical = encoder.fit_transform(X_train[categorical_cols]).toarray()\n",
    "X_test_categorical = encoder.transform(X_test[categorical_cols]).toarray()"
   ]
  },
  {
   "cell_type": "code",
   "execution_count": null,
   "metadata": {},
   "outputs": [],
   "source": [
    "import numpy as np\n",
    "X_train_processed = np.hstack((X_train_numerical, X_train_categorical))\n",
    "X_test_processed = np.hstack((X_test_numerical, X_test_categorical))"
   ]
  },
  {
   "cell_type": "code",
   "execution_count": null,
   "metadata": {},
   "outputs": [],
   "source": [
    "model = RandomForestRegressor(n_estimators=100, random_state=42)\n",
    "model.fit(X_train_processed, y_train)"
   ]
  },
  {
   "cell_type": "code",
   "execution_count": null,
   "metadata": {},
   "outputs": [],
   "source": [
    "with open('src/models/insurance_model.pkl', 'wb') as file:\n",
    "    pickle.dump({\n",
    "        'model': model,\n",
    "        'scaler': scaler,\n",
    "        'encoder': encoder,\n",
    "        'categorical_cols': categorical_cols,\n",
    "        'numerical_cols': numerical_cols\n",
    "    }, file)"
   ]
  },
  {
   "cell_type": "code",
   "execution_count": null,
   "metadata": {},
   "outputs": [],
   "source": [
    "score = model.score(X_test_processed, y_test)\n",
    "print(f'Model R^2 score: {score}')"
   ]
  }
 ],
 "metadata": {
  "kernelspec": {
   "display_name": "Python 3",
   "language": "python",
   "name": "python3"
  },
  "language_info": {
   "codemirror_mode": {
    "name": "ipython",
    "version": 3
   },
   "file_extension": ".py",
   "mimetype": "text/x-python",
   "name": "python",
   "nbconvert_exporter": "python",
   "pygments_lexer": "ipython3",
   "version": "3.11.0"
  }
 },
 "nbformat": 4,
 "nbformat_minor": 2
}
